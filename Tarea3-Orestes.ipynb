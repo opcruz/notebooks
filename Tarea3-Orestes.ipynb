{
 "cells": [
  {
   "cell_type": "markdown",
   "source": [
    "### Importar librerías"
   ],
   "metadata": {
    "collapsed": false,
    "id": "88E8jbPF3VwJ"
   }
  },
  {
   "cell_type": "code",
   "execution_count": 119,
   "metadata": {
    "collapsed": true,
    "id": "c7IO-UVP3VwK",
    "executionInfo": {
     "status": "ok",
     "timestamp": 1679732610350,
     "user_tz": 360,
     "elapsed": 379,
     "user": {
      "displayName": "Orestes Pérez Cruz",
      "userId": "07825545508604108832"
     }
    }
   },
   "outputs": [],
   "source": [
    "import matplotlib.pyplot as plt\n",
    "import numpy as np\n",
    "import pandas as pd"
   ]
  },
  {
   "cell_type": "markdown",
   "source": [
    "## Cargar Dataframe"
   ],
   "metadata": {
    "collapsed": false,
    "id": "bBtjkbrW3VwL"
   }
  },
  {
   "cell_type": "code",
   "execution_count": 120,
   "outputs": [
    {
     "data": {
      "text/plain": "   Year   Lag1   Lag2   Lag3   Lag4   Lag5    Volume  Today Direction\n0  1990  0.816  1.572 -3.936 -0.229 -3.484  0.154976 -0.270      Down\n1  1990 -0.270  0.816  1.572 -3.936 -0.229  0.148574 -2.576      Down\n2  1990 -2.576 -0.270  0.816  1.572 -3.936  0.159837  3.514        Up\n3  1990  3.514 -2.576 -0.270  0.816  1.572  0.161630  0.712        Up\n4  1990  0.712  3.514 -2.576 -0.270  0.816  0.153728  1.178        Up",
      "text/html": "<div>\n<style scoped>\n    .dataframe tbody tr th:only-of-type {\n        vertical-align: middle;\n    }\n\n    .dataframe tbody tr th {\n        vertical-align: top;\n    }\n\n    .dataframe thead th {\n        text-align: right;\n    }\n</style>\n<table border=\"1\" class=\"dataframe\">\n  <thead>\n    <tr style=\"text-align: right;\">\n      <th></th>\n      <th>Year</th>\n      <th>Lag1</th>\n      <th>Lag2</th>\n      <th>Lag3</th>\n      <th>Lag4</th>\n      <th>Lag5</th>\n      <th>Volume</th>\n      <th>Today</th>\n      <th>Direction</th>\n    </tr>\n  </thead>\n  <tbody>\n    <tr>\n      <th>0</th>\n      <td>1990</td>\n      <td>0.816</td>\n      <td>1.572</td>\n      <td>-3.936</td>\n      <td>-0.229</td>\n      <td>-3.484</td>\n      <td>0.154976</td>\n      <td>-0.270</td>\n      <td>Down</td>\n    </tr>\n    <tr>\n      <th>1</th>\n      <td>1990</td>\n      <td>-0.270</td>\n      <td>0.816</td>\n      <td>1.572</td>\n      <td>-3.936</td>\n      <td>-0.229</td>\n      <td>0.148574</td>\n      <td>-2.576</td>\n      <td>Down</td>\n    </tr>\n    <tr>\n      <th>2</th>\n      <td>1990</td>\n      <td>-2.576</td>\n      <td>-0.270</td>\n      <td>0.816</td>\n      <td>1.572</td>\n      <td>-3.936</td>\n      <td>0.159837</td>\n      <td>3.514</td>\n      <td>Up</td>\n    </tr>\n    <tr>\n      <th>3</th>\n      <td>1990</td>\n      <td>3.514</td>\n      <td>-2.576</td>\n      <td>-0.270</td>\n      <td>0.816</td>\n      <td>1.572</td>\n      <td>0.161630</td>\n      <td>0.712</td>\n      <td>Up</td>\n    </tr>\n    <tr>\n      <th>4</th>\n      <td>1990</td>\n      <td>0.712</td>\n      <td>3.514</td>\n      <td>-2.576</td>\n      <td>-0.270</td>\n      <td>0.816</td>\n      <td>0.153728</td>\n      <td>1.178</td>\n      <td>Up</td>\n    </tr>\n  </tbody>\n</table>\n</div>"
     },
     "execution_count": 120,
     "metadata": {},
     "output_type": "execute_result"
    }
   ],
   "source": [
    "df = pd.read_csv(\"https://raw.githubusercontent.com/opcruz/datasets/main/Weekly.csv\", sep=\",\")\n",
    "df.head()"
   ],
   "metadata": {
    "colab": {
     "base_uri": "https://localhost:8080/",
     "height": 206
    },
    "id": "Q99ZBBKm3VwL",
    "executionInfo": {
     "status": "ok",
     "timestamp": 1679732611912,
     "user_tz": 360,
     "elapsed": 509,
     "user": {
      "displayName": "Orestes Pérez Cruz",
      "userId": "07825545508604108832"
     }
    },
    "outputId": "33255bf8-6b4d-46c5-c8ba-8bdd15072a25"
   }
  },
  {
   "cell_type": "code",
   "execution_count": 121,
   "outputs": [
    {
     "name": "stdout",
     "output_type": "stream",
     "text": [
      "Tamaño de la muestra: 1089\n"
     ]
    }
   ],
   "source": [
    "print('Tamaño de la muestra:', df.shape[0])"
   ],
   "metadata": {
    "collapsed": false
   }
  },
  {
   "cell_type": "markdown",
   "source": [
    "### Información estadística"
   ],
   "metadata": {
    "collapsed": false
   }
  },
  {
   "cell_type": "code",
   "execution_count": 122,
   "outputs": [
    {
     "data": {
      "text/plain": "         count         mean       std          min          25%         50%  \\\nYear    1089.0  2000.048669  6.033182  1990.000000  1995.000000  2000.00000   \nLag1    1089.0     0.150585  2.357013   -18.195000    -1.154000     0.24100   \nLag2    1089.0     0.151079  2.357254   -18.195000    -1.154000     0.24100   \nLag3    1089.0     0.147205  2.360502   -18.195000    -1.158000     0.24100   \nLag4    1089.0     0.145818  2.360279   -18.195000    -1.158000     0.23800   \nLag5    1089.0     0.139893  2.361285   -18.195000    -1.166000     0.23400   \nVolume  1089.0     1.574618  1.686636     0.087465     0.332022     1.00268   \nToday   1089.0     0.149899  2.356927   -18.195000    -1.154000     0.24100   \n\n                75%          max  \nYear    2005.000000  2010.000000  \nLag1       1.405000    12.026000  \nLag2       1.409000    12.026000  \nLag3       1.409000    12.026000  \nLag4       1.409000    12.026000  \nLag5       1.405000    12.026000  \nVolume     2.053727     9.328214  \nToday      1.405000    12.026000  ",
      "text/html": "<div>\n<style scoped>\n    .dataframe tbody tr th:only-of-type {\n        vertical-align: middle;\n    }\n\n    .dataframe tbody tr th {\n        vertical-align: top;\n    }\n\n    .dataframe thead th {\n        text-align: right;\n    }\n</style>\n<table border=\"1\" class=\"dataframe\">\n  <thead>\n    <tr style=\"text-align: right;\">\n      <th></th>\n      <th>count</th>\n      <th>mean</th>\n      <th>std</th>\n      <th>min</th>\n      <th>25%</th>\n      <th>50%</th>\n      <th>75%</th>\n      <th>max</th>\n    </tr>\n  </thead>\n  <tbody>\n    <tr>\n      <th>Year</th>\n      <td>1089.0</td>\n      <td>2000.048669</td>\n      <td>6.033182</td>\n      <td>1990.000000</td>\n      <td>1995.000000</td>\n      <td>2000.00000</td>\n      <td>2005.000000</td>\n      <td>2010.000000</td>\n    </tr>\n    <tr>\n      <th>Lag1</th>\n      <td>1089.0</td>\n      <td>0.150585</td>\n      <td>2.357013</td>\n      <td>-18.195000</td>\n      <td>-1.154000</td>\n      <td>0.24100</td>\n      <td>1.405000</td>\n      <td>12.026000</td>\n    </tr>\n    <tr>\n      <th>Lag2</th>\n      <td>1089.0</td>\n      <td>0.151079</td>\n      <td>2.357254</td>\n      <td>-18.195000</td>\n      <td>-1.154000</td>\n      <td>0.24100</td>\n      <td>1.409000</td>\n      <td>12.026000</td>\n    </tr>\n    <tr>\n      <th>Lag3</th>\n      <td>1089.0</td>\n      <td>0.147205</td>\n      <td>2.360502</td>\n      <td>-18.195000</td>\n      <td>-1.158000</td>\n      <td>0.24100</td>\n      <td>1.409000</td>\n      <td>12.026000</td>\n    </tr>\n    <tr>\n      <th>Lag4</th>\n      <td>1089.0</td>\n      <td>0.145818</td>\n      <td>2.360279</td>\n      <td>-18.195000</td>\n      <td>-1.158000</td>\n      <td>0.23800</td>\n      <td>1.409000</td>\n      <td>12.026000</td>\n    </tr>\n    <tr>\n      <th>Lag5</th>\n      <td>1089.0</td>\n      <td>0.139893</td>\n      <td>2.361285</td>\n      <td>-18.195000</td>\n      <td>-1.166000</td>\n      <td>0.23400</td>\n      <td>1.405000</td>\n      <td>12.026000</td>\n    </tr>\n    <tr>\n      <th>Volume</th>\n      <td>1089.0</td>\n      <td>1.574618</td>\n      <td>1.686636</td>\n      <td>0.087465</td>\n      <td>0.332022</td>\n      <td>1.00268</td>\n      <td>2.053727</td>\n      <td>9.328214</td>\n    </tr>\n    <tr>\n      <th>Today</th>\n      <td>1089.0</td>\n      <td>0.149899</td>\n      <td>2.356927</td>\n      <td>-18.195000</td>\n      <td>-1.154000</td>\n      <td>0.24100</td>\n      <td>1.405000</td>\n      <td>12.026000</td>\n    </tr>\n  </tbody>\n</table>\n</div>"
     },
     "execution_count": 122,
     "metadata": {},
     "output_type": "execute_result"
    }
   ],
   "source": [
    "df.describe().T"
   ],
   "metadata": {
    "colab": {
     "base_uri": "https://localhost:8080/",
     "height": 300
    },
    "id": "w5GVDbPY3VwM",
    "executionInfo": {
     "status": "ok",
     "timestamp": 1679732611913,
     "user_tz": 360,
     "elapsed": 5,
     "user": {
      "displayName": "Orestes Pérez Cruz",
      "userId": "07825545508604108832"
     }
    },
    "outputId": "ab24df34-ba2f-4367-9905-0612c3b4900f"
   }
  },
  {
   "cell_type": "markdown",
   "source": [
    "Matriz de correlación entre los predictores"
   ],
   "metadata": {
    "collapsed": false
   }
  },
  {
   "cell_type": "code",
   "execution_count": 123,
   "outputs": [
    {
     "data": {
      "text/plain": "            Year      Lag1      Lag2      Lag3      Lag4      Lag5    Volume  \\\nYear    1.000000 -0.032289 -0.033390 -0.030006 -0.031128 -0.030519  0.841942   \nLag1   -0.032289  1.000000 -0.074853  0.058636 -0.071274 -0.008183 -0.064951   \nLag2   -0.033390 -0.074853  1.000000 -0.075721  0.058382 -0.072499 -0.085513   \nLag3   -0.030006  0.058636 -0.075721  1.000000 -0.075396  0.060657 -0.069288   \nLag4   -0.031128 -0.071274  0.058382 -0.075396  1.000000 -0.075675 -0.061075   \nLag5   -0.030519 -0.008183 -0.072499  0.060657 -0.075675  1.000000 -0.058517   \nVolume  0.841942 -0.064951 -0.085513 -0.069288 -0.061075 -0.058517  1.000000   \nToday  -0.032460 -0.075032  0.059167 -0.071244 -0.007826  0.011013 -0.033078   \n\n           Today  \nYear   -0.032460  \nLag1   -0.075032  \nLag2    0.059167  \nLag3   -0.071244  \nLag4   -0.007826  \nLag5    0.011013  \nVolume -0.033078  \nToday   1.000000  ",
      "text/html": "<div>\n<style scoped>\n    .dataframe tbody tr th:only-of-type {\n        vertical-align: middle;\n    }\n\n    .dataframe tbody tr th {\n        vertical-align: top;\n    }\n\n    .dataframe thead th {\n        text-align: right;\n    }\n</style>\n<table border=\"1\" class=\"dataframe\">\n  <thead>\n    <tr style=\"text-align: right;\">\n      <th></th>\n      <th>Year</th>\n      <th>Lag1</th>\n      <th>Lag2</th>\n      <th>Lag3</th>\n      <th>Lag4</th>\n      <th>Lag5</th>\n      <th>Volume</th>\n      <th>Today</th>\n    </tr>\n  </thead>\n  <tbody>\n    <tr>\n      <th>Year</th>\n      <td>1.000000</td>\n      <td>-0.032289</td>\n      <td>-0.033390</td>\n      <td>-0.030006</td>\n      <td>-0.031128</td>\n      <td>-0.030519</td>\n      <td>0.841942</td>\n      <td>-0.032460</td>\n    </tr>\n    <tr>\n      <th>Lag1</th>\n      <td>-0.032289</td>\n      <td>1.000000</td>\n      <td>-0.074853</td>\n      <td>0.058636</td>\n      <td>-0.071274</td>\n      <td>-0.008183</td>\n      <td>-0.064951</td>\n      <td>-0.075032</td>\n    </tr>\n    <tr>\n      <th>Lag2</th>\n      <td>-0.033390</td>\n      <td>-0.074853</td>\n      <td>1.000000</td>\n      <td>-0.075721</td>\n      <td>0.058382</td>\n      <td>-0.072499</td>\n      <td>-0.085513</td>\n      <td>0.059167</td>\n    </tr>\n    <tr>\n      <th>Lag3</th>\n      <td>-0.030006</td>\n      <td>0.058636</td>\n      <td>-0.075721</td>\n      <td>1.000000</td>\n      <td>-0.075396</td>\n      <td>0.060657</td>\n      <td>-0.069288</td>\n      <td>-0.071244</td>\n    </tr>\n    <tr>\n      <th>Lag4</th>\n      <td>-0.031128</td>\n      <td>-0.071274</td>\n      <td>0.058382</td>\n      <td>-0.075396</td>\n      <td>1.000000</td>\n      <td>-0.075675</td>\n      <td>-0.061075</td>\n      <td>-0.007826</td>\n    </tr>\n    <tr>\n      <th>Lag5</th>\n      <td>-0.030519</td>\n      <td>-0.008183</td>\n      <td>-0.072499</td>\n      <td>0.060657</td>\n      <td>-0.075675</td>\n      <td>1.000000</td>\n      <td>-0.058517</td>\n      <td>0.011013</td>\n    </tr>\n    <tr>\n      <th>Volume</th>\n      <td>0.841942</td>\n      <td>-0.064951</td>\n      <td>-0.085513</td>\n      <td>-0.069288</td>\n      <td>-0.061075</td>\n      <td>-0.058517</td>\n      <td>1.000000</td>\n      <td>-0.033078</td>\n    </tr>\n    <tr>\n      <th>Today</th>\n      <td>-0.032460</td>\n      <td>-0.075032</td>\n      <td>0.059167</td>\n      <td>-0.071244</td>\n      <td>-0.007826</td>\n      <td>0.011013</td>\n      <td>-0.033078</td>\n      <td>1.000000</td>\n    </tr>\n  </tbody>\n</table>\n</div>"
     },
     "execution_count": 123,
     "metadata": {},
     "output_type": "execute_result"
    }
   ],
   "source": [
    "df.drop(columns=['Direction']).corr()"
   ],
   "metadata": {
    "collapsed": false
   }
  },
  {
   "cell_type": "markdown",
   "source": [
    "Como se puede apreciar, los valores de correlación entre las variables **lag*** y **today** son cercanos a cero. Esto significa que parece haber poca correlación entre los rendimientos de hoy y los días anteriores. La única correlación importante es entre **Year** y **Volumen**.\n"
   ],
   "metadata": {
    "collapsed": false
   }
  },
  {
   "cell_type": "code",
   "execution_count": 124,
   "outputs": [],
   "source": [
    "df_down = df[df['Direction'] == 'Down']\n",
    "df_up = df[df['Direction'] == 'Up']"
   ],
   "metadata": {
    "collapsed": false
   }
  },
  {
   "cell_type": "markdown",
   "source": [
    "Al graficar los datos, vemos que el volumen aumenta con el tiempo. En otras palabras, el número medio de acciones negociadas diariamente aumentó de 1990 a 2010."
   ],
   "metadata": {
    "collapsed": false
   }
  },
  {
   "cell_type": "code",
   "execution_count": 125,
   "outputs": [
    {
     "data": {
      "text/plain": "<Figure size 1200x800 with 1 Axes>",
      "image/png": "[encoded data removed]"
     },
     "metadata": {},
     "output_type": "display_data"
    }
   ],
   "source": [
    "plt.figure(1, figsize=(12, 8))\n",
    "# considerar una muestra aleatoria del 15 por ciento\n",
    "df_down_15 = df_down.sample(frac=0.15)\n",
    "df_up_15 = df_up.sample(frac=0.15)\n",
    "plt.clf()  # clear figure\n",
    "plt.xlabel('Year')\n",
    "plt.ylabel('Volume')\n",
    "plt.scatter(df_down_15['Year'], df_down_15['Volume'], color='red', marker='+', label=\"Down\")\n",
    "plt.scatter(df_up_15['Year'], df_up_15['Volume'], facecolors='white', edgecolors='blue', label=\"Up\")\n",
    "plt.legend()\n",
    "plt.show()"
   ],
   "metadata": {
    "collapsed": false
   }
  },
  {
   "cell_type": "code",
   "execution_count": 126,
   "outputs": [],
   "source": [
    "df['direction_dummy'] = df['Direction'].factorize()[0]"
   ],
   "metadata": {
    "collapsed": false
   }
  },
  {
   "cell_type": "code",
   "execution_count": 127,
   "outputs": [
    {
     "data": {
      "text/plain": "   Year   Lag1   Lag2   Lag3   Lag4   Lag5    Volume  Today Direction  \\\n0  1990  0.816  1.572 -3.936 -0.229 -3.484  0.154976 -0.270      Down   \n1  1990 -0.270  0.816  1.572 -3.936 -0.229  0.148574 -2.576      Down   \n2  1990 -2.576 -0.270  0.816  1.572 -3.936  0.159837  3.514        Up   \n3  1990  3.514 -2.576 -0.270  0.816  1.572  0.161630  0.712        Up   \n4  1990  0.712  3.514 -2.576 -0.270  0.816  0.153728  1.178        Up   \n\n   direction_dummy  \n0                0  \n1                0  \n2                1  \n3                1  \n4                1  ",
      "text/html": "<div>\n<style scoped>\n    .dataframe tbody tr th:only-of-type {\n        vertical-align: middle;\n    }\n\n    .dataframe tbody tr th {\n        vertical-align: top;\n    }\n\n    .dataframe thead th {\n        text-align: right;\n    }\n</style>\n<table border=\"1\" class=\"dataframe\">\n  <thead>\n    <tr style=\"text-align: right;\">\n      <th></th>\n      <th>Year</th>\n      <th>Lag1</th>\n      <th>Lag2</th>\n      <th>Lag3</th>\n      <th>Lag4</th>\n      <th>Lag5</th>\n      <th>Volume</th>\n      <th>Today</th>\n      <th>Direction</th>\n      <th>direction_dummy</th>\n    </tr>\n  </thead>\n  <tbody>\n    <tr>\n      <th>0</th>\n      <td>1990</td>\n      <td>0.816</td>\n      <td>1.572</td>\n      <td>-3.936</td>\n      <td>-0.229</td>\n      <td>-3.484</td>\n      <td>0.154976</td>\n      <td>-0.270</td>\n      <td>Down</td>\n      <td>0</td>\n    </tr>\n    <tr>\n      <th>1</th>\n      <td>1990</td>\n      <td>-0.270</td>\n      <td>0.816</td>\n      <td>1.572</td>\n      <td>-3.936</td>\n      <td>-0.229</td>\n      <td>0.148574</td>\n      <td>-2.576</td>\n      <td>Down</td>\n      <td>0</td>\n    </tr>\n    <tr>\n      <th>2</th>\n      <td>1990</td>\n      <td>-2.576</td>\n      <td>-0.270</td>\n      <td>0.816</td>\n      <td>1.572</td>\n      <td>-3.936</td>\n      <td>0.159837</td>\n      <td>3.514</td>\n      <td>Up</td>\n      <td>1</td>\n    </tr>\n    <tr>\n      <th>3</th>\n      <td>1990</td>\n      <td>3.514</td>\n      <td>-2.576</td>\n      <td>-0.270</td>\n      <td>0.816</td>\n      <td>1.572</td>\n      <td>0.161630</td>\n      <td>0.712</td>\n      <td>Up</td>\n      <td>1</td>\n    </tr>\n    <tr>\n      <th>4</th>\n      <td>1990</td>\n      <td>0.712</td>\n      <td>3.514</td>\n      <td>-2.576</td>\n      <td>-0.270</td>\n      <td>0.816</td>\n      <td>0.153728</td>\n      <td>1.178</td>\n      <td>Up</td>\n      <td>1</td>\n    </tr>\n  </tbody>\n</table>\n</div>"
     },
     "execution_count": 127,
     "metadata": {},
     "output_type": "execute_result"
    }
   ],
   "source": [
    "df.head()"
   ],
   "metadata": {
    "collapsed": false
   }
  },
  {
   "cell_type": "markdown",
   "source": [
    "#### Dividir en conjunto de pruebas y entrenamiento"
   ],
   "metadata": {
    "collapsed": false
   }
  },
  {
   "cell_type": "code",
   "execution_count": 128,
   "outputs": [
    {
     "name": "stdout",
     "output_type": "stream",
     "text": [
      "Datos originales: 1089\n",
      "Datos para el entrenamiento: 871\n",
      "Datos para prueba: 218\n"
     ]
    }
   ],
   "source": [
    "from sklearn.model_selection import train_test_split\n",
    "\n",
    "# Entrenamiento: 80%\n",
    "# Pruebas: 20%\n",
    "train_set, test_set = train_test_split(df, test_size=0.20, stratify=df['direction_dummy'])\n",
    "\n",
    "X_train = train_set[['Lag1', 'Lag2', 'Lag3', 'Lag4', 'Lag5', 'Volume']]\n",
    "X_test = test_set[['Lag1', 'Lag2', 'Lag3', 'Lag4', 'Lag5', 'Volume']]\n",
    "y_train = train_set[['direction_dummy']]\n",
    "y_test = test_set[['direction_dummy']]\n",
    "\n",
    "print(\"Datos originales:\", df.shape[0])\n",
    "print(\"Datos para el entrenamiento:\", train_set.shape[0])\n",
    "print(\"Datos para prueba:\", test_set.shape[0])"
   ],
   "metadata": {
    "collapsed": false
   }
  },
  {
   "cell_type": "markdown",
   "source": [
    "### Aplicar regresión Logística"
   ],
   "metadata": {
    "collapsed": false
   }
  },
  {
   "cell_type": "code",
   "execution_count": 129,
   "outputs": [
    {
     "name": "stdout",
     "output_type": "stream",
     "text": [
      "Clases:  [0 1]\n",
      "Coeficientes:  [-0.02909359  0.08472986  0.00887061 -0.02954124 -0.00799551 -0.01672494]\n",
      "Intercepto : [0.24041802]\n"
     ]
    }
   ],
   "source": [
    "import sklearn.linear_model as sklearn\n",
    "\n",
    "clf = sklearn.LogisticRegression(solver='newton-cg')\n",
    "\n",
    "clf.fit(X_train.values, y_train.values.ravel())\n",
    "print('Clases: ', clf.classes_)\n",
    "print('Coeficientes: ', clf.coef_[0])\n",
    "print('Intercepto :', clf.intercept_)\n"
   ],
   "metadata": {
    "collapsed": false
   }
  },
  {
   "cell_type": "code",
   "execution_count": 130,
   "outputs": [],
   "source": [
    "y_pred = clf.predict(X_test.values)"
   ],
   "metadata": {
    "collapsed": false
   }
  },
  {
   "cell_type": "markdown",
   "source": [
    "### Matriz de confusión"
   ],
   "metadata": {
    "collapsed": false
   }
  },
  {
   "cell_type": "code",
   "execution_count": 131,
   "outputs": [
    {
     "name": "stdout",
     "output_type": "stream",
     "text": [
      "Matriz de confusión:\n",
      "[[ 18  79]\n",
      " [ 15 106]]\n"
     ]
    }
   ],
   "source": [
    "from sklearn.metrics import confusion_matrix\n",
    "\n",
    "cm = confusion_matrix(y_test, y_pred)\n",
    "print('Matriz de confusión:')\n",
    "print(cm)"
   ],
   "metadata": {
    "collapsed": false
   }
  },
  {
   "cell_type": "markdown",
   "source": [
    "### Evaluar la precisión del modelo"
   ],
   "metadata": {
    "collapsed": false
   }
  },
  {
   "cell_type": "code",
   "execution_count": 132,
   "outputs": [
    {
     "name": "stdout",
     "output_type": "stream",
     "text": [
      "Precisión: 0.5688073394495413\n"
     ]
    }
   ],
   "source": [
    "accuracy = clf.score(X_test.values, y_test.values.ravel())\n",
    "print('Precisión:', accuracy)"
   ],
   "metadata": {
    "collapsed": false
   }
  },
  {
   "cell_type": "code",
   "execution_count": 133,
   "outputs": [
    {
     "name": "stdout",
     "output_type": "stream",
     "text": [
      "Optimization terminated successfully.\n",
      "         Current function value: 0.680758\n",
      "         Iterations 4\n",
      "                           Logit Regression Results                           \n",
      "==============================================================================\n",
      "Dep. Variable:        direction_dummy   No. Observations:                  871\n",
      "Model:                          Logit   Df Residuals:                      864\n",
      "Method:                           MLE   Df Model:                            6\n",
      "Date:                Wed, 05 Apr 2023   Pseudo R-squ.:                0.008989\n",
      "Time:                        23:46:34   Log-Likelihood:                -592.94\n",
      "converged:                       True   LL-Null:                       -598.32\n",
      "Covariance Type:            nonrobust   LLR p-value:                   0.09619\n",
      "==============================================================================\n",
      "                 coef    std err          z      P>|z|      [0.025      0.975]\n",
      "------------------------------------------------------------------------------\n",
      "const          0.2404      0.097      2.476      0.013       0.050       0.431\n",
      "Lag1          -0.0291      0.030     -0.970      0.332      -0.088       0.030\n",
      "Lag2           0.0848      0.031      2.756      0.006       0.024       0.145\n",
      "Lag3           0.0089      0.030      0.300      0.764      -0.049       0.067\n",
      "Lag4          -0.0296      0.029     -1.007      0.314      -0.087       0.028\n",
      "Lag5          -0.0080      0.030     -0.266      0.790      -0.067       0.051\n",
      "Volume        -0.0168      0.042     -0.398      0.691      -0.099       0.066\n",
      "==============================================================================\n"
     ]
    }
   ],
   "source": [
    " # Añadir una columna de unos para el término independiente\n",
    "import statsmodels.api as sm\n",
    "\n",
    "X_train1 = sm.add_constant(X_train)\n",
    "\n",
    "# Ajustar el modelo\n",
    "model = sm.Logit(y_train, X_train1).fit()\n",
    "\n",
    "# Imprimir los resultados\n",
    "print(model.summary())"
   ],
   "metadata": {
    "collapsed": false
   }
  },
  {
   "cell_type": "code",
   "execution_count": 134,
   "outputs": [
    {
     "name": "stdout",
     "output_type": "stream",
     "text": [
      "Mean Absolute Error: 0.43119266055045874\n",
      "Mean Squared Error: 0.43119266055045874\n",
      "Root Mean Squared Error: 0.6566526178661429\n",
      "Coefficient of determination: -0.74593\n"
     ]
    }
   ],
   "source": [
    "from sklearn import metrics\n",
    "\n",
    "decision_prob = 0.5\n",
    "\n",
    "X_test = sm.add_constant(X_test)\n",
    "predictions = model.predict(X_test) > decision_prob\n",
    "\n",
    "print(\"Mean Absolute Error:\", metrics.mean_absolute_error(y_test, predictions))\n",
    "print(\"Mean Squared Error:\", metrics.mean_squared_error(y_test, predictions))\n",
    "print(\"Root Mean Squared Error:\", np.sqrt(metrics.mean_squared_error(y_test, predictions)))\n",
    "print('Coefficient of determination: %.5f' % metrics.r2_score(y_test, predictions))"
   ],
   "metadata": {
    "collapsed": false
   }
  },
  {
   "cell_type": "code",
   "execution_count": 135,
   "outputs": [
    {
     "name": "stdout",
     "output_type": "stream",
     "text": [
      "Accuracy: 0.5688073394495413\n",
      "AUC: 0.530800034080259\n",
      "Precision: 0.572972972972973\n",
      "Recall: 0.8760330578512396\n"
     ]
    }
   ],
   "source": [
    "import statsmodels.api as sm\n",
    "from sklearn.metrics import accuracy_score, roc_auc_score, precision_score, recall_score\n",
    "\n",
    "# calcular las métricas de evaluación de clasificación\n",
    "accuracy = accuracy_score(y_test, predictions)\n",
    "auc = roc_auc_score(y_test, predictions)\n",
    "precision = precision_score(y_test, predictions)\n",
    "recall = recall_score(y_test, predictions)\n",
    "# imprimir las métricas\n",
    "print('Accuracy:', accuracy)\n",
    "print('AUC:', auc)\n",
    "print('Precision:', precision)\n",
    "print('Recall:', recall)"
   ],
   "metadata": {
    "collapsed": false
   }
  },
  {
   "cell_type": "code",
   "execution_count": 136,
   "outputs": [],
   "source": [
    "a = predictions > 0.5"
   ],
   "metadata": {
    "collapsed": false
   }
  },
  {
   "cell_type": "markdown",
   "source": [
    "### Matriz de confusión"
   ],
   "metadata": {
    "collapsed": false
   }
  },
  {
   "cell_type": "code",
   "execution_count": 137,
   "outputs": [
    {
     "data": {
      "text/plain": "True default status       Down   Up\nPredicted default status           \nDown                        18   15\nUp                          79  106",
      "text/html": "<div>\n<style scoped>\n    .dataframe tbody tr th:only-of-type {\n        vertical-align: middle;\n    }\n\n    .dataframe tbody tr th {\n        vertical-align: top;\n    }\n\n    .dataframe thead th {\n        text-align: right;\n    }\n</style>\n<table border=\"1\" class=\"dataframe\">\n  <thead>\n    <tr style=\"text-align: right;\">\n      <th>True default status</th>\n      <th>Down</th>\n      <th>Up</th>\n    </tr>\n    <tr>\n      <th>Predicted default status</th>\n      <th></th>\n      <th></th>\n    </tr>\n  </thead>\n  <tbody>\n    <tr>\n      <th>Down</th>\n      <td>18</td>\n      <td>15</td>\n    </tr>\n    <tr>\n      <th>Up</th>\n      <td>79</td>\n      <td>106</td>\n    </tr>\n  </tbody>\n</table>\n</div>"
     },
     "execution_count": 137,
     "metadata": {},
     "output_type": "execute_result"
    }
   ],
   "source": [
    "decision_prob = 0.5\n",
    "df_ = pd.DataFrame({'True default status': y_test.values.ravel(),\n",
    "                    'Predicted default status': predictions > decision_prob})\n",
    "df_.replace(to_replace={True: 1, False: 0}, inplace=True)\n",
    "y_pred = np.asarray(df_['Predicted default status'])\n",
    "\n",
    "# df_.replace(to_replace={0:'Up', 1:'Down'}, inplace=True)\n",
    "df_.replace(to_replace={1: 'Up', 0: 'Down'}, inplace=True)\n",
    "df_.groupby(['Predicted default status', 'True default status']).size().unstack('True default status')"
   ],
   "metadata": {
    "collapsed": false
   }
  },
  {
   "cell_type": "code",
   "execution_count": 138,
   "outputs": [],
   "source": [
    "p = y_test[y_test['direction_dummy'] == 0]\n",
    "p1 = y_test[y_test['direction_dummy'] == 1]"
   ],
   "metadata": {
    "collapsed": false
   }
  },
  {
   "cell_type": "code",
   "execution_count": 139,
   "outputs": [
    {
     "ename": "ValueError",
     "evalue": "Found input variables with inconsistent numbers of samples: [5, 218]",
     "output_type": "error",
     "traceback": [
      "\u001B[1;31m---------------------------------------------------------------------------\u001B[0m",
      "\u001B[1;31mValueError\u001B[0m                                Traceback (most recent call last)",
      "Cell \u001B[1;32mIn[139], line 6\u001B[0m\n\u001B[0;32m      4\u001B[0m df_\u001B[38;5;241m.\u001B[39mreplace(to_replace\u001B[38;5;241m=\u001B[39m{\u001B[38;5;241m0\u001B[39m: \u001B[38;5;124m'\u001B[39m\u001B[38;5;124mUp\u001B[39m\u001B[38;5;124m'\u001B[39m, \u001B[38;5;241m1\u001B[39m: \u001B[38;5;124m'\u001B[39m\u001B[38;5;124mDown\u001B[39m\u001B[38;5;124m'\u001B[39m}, inplace\u001B[38;5;241m=\u001B[39m\u001B[38;5;28;01mTrue\u001B[39;00m)\n\u001B[0;32m      5\u001B[0m df_\u001B[38;5;241m.\u001B[39mgroupby([\u001B[38;5;124m'\u001B[39m\u001B[38;5;124mPredicted default status\u001B[39m\u001B[38;5;124m'\u001B[39m, \u001B[38;5;124m'\u001B[39m\u001B[38;5;124mTrue default status\u001B[39m\u001B[38;5;124m'\u001B[39m])\u001B[38;5;241m.\u001B[39msize()\u001B[38;5;241m.\u001B[39munstack(\u001B[38;5;124m'\u001B[39m\u001B[38;5;124mTrue default status\u001B[39m\u001B[38;5;124m'\u001B[39m)\n\u001B[1;32m----> 6\u001B[0m \u001B[43mprecision_score\u001B[49m\u001B[43m(\u001B[49m\u001B[43my\u001B[49m\u001B[43m,\u001B[49m\u001B[43m \u001B[49m\u001B[43my_pred\u001B[49m\u001B[43m)\u001B[49m\n\u001B[0;32m      7\u001B[0m accuracy_score(y, y_pred)\n",
      "File \u001B[1;32m~\\AppData\\Local\\Programs\\Python\\Python311\\Lib\\site-packages\\sklearn\\metrics\\_classification.py:1954\u001B[0m, in \u001B[0;36mprecision_score\u001B[1;34m(y_true, y_pred, labels, pos_label, average, sample_weight, zero_division)\u001B[0m\n\u001B[0;32m   1825\u001B[0m \u001B[38;5;28;01mdef\u001B[39;00m \u001B[38;5;21mprecision_score\u001B[39m(\n\u001B[0;32m   1826\u001B[0m     y_true,\n\u001B[0;32m   1827\u001B[0m     y_pred,\n\u001B[1;32m   (...)\u001B[0m\n\u001B[0;32m   1833\u001B[0m     zero_division\u001B[38;5;241m=\u001B[39m\u001B[38;5;124m\"\u001B[39m\u001B[38;5;124mwarn\u001B[39m\u001B[38;5;124m\"\u001B[39m,\n\u001B[0;32m   1834\u001B[0m ):\n\u001B[0;32m   1835\u001B[0m \u001B[38;5;250m    \u001B[39m\u001B[38;5;124;03m\"\"\"Compute the precision.\u001B[39;00m\n\u001B[0;32m   1836\u001B[0m \n\u001B[0;32m   1837\u001B[0m \u001B[38;5;124;03m    The precision is the ratio ``tp / (tp + fp)`` where ``tp`` is the number of\u001B[39;00m\n\u001B[1;32m   (...)\u001B[0m\n\u001B[0;32m   1952\u001B[0m \u001B[38;5;124;03m    array([0.5, 1. , 1. ])\u001B[39;00m\n\u001B[0;32m   1953\u001B[0m \u001B[38;5;124;03m    \"\"\"\u001B[39;00m\n\u001B[1;32m-> 1954\u001B[0m     p, _, _, _ \u001B[38;5;241m=\u001B[39m \u001B[43mprecision_recall_fscore_support\u001B[49m\u001B[43m(\u001B[49m\n\u001B[0;32m   1955\u001B[0m \u001B[43m        \u001B[49m\u001B[43my_true\u001B[49m\u001B[43m,\u001B[49m\n\u001B[0;32m   1956\u001B[0m \u001B[43m        \u001B[49m\u001B[43my_pred\u001B[49m\u001B[43m,\u001B[49m\n\u001B[0;32m   1957\u001B[0m \u001B[43m        \u001B[49m\u001B[43mlabels\u001B[49m\u001B[38;5;241;43m=\u001B[39;49m\u001B[43mlabels\u001B[49m\u001B[43m,\u001B[49m\n\u001B[0;32m   1958\u001B[0m \u001B[43m        \u001B[49m\u001B[43mpos_label\u001B[49m\u001B[38;5;241;43m=\u001B[39;49m\u001B[43mpos_label\u001B[49m\u001B[43m,\u001B[49m\n\u001B[0;32m   1959\u001B[0m \u001B[43m        \u001B[49m\u001B[43maverage\u001B[49m\u001B[38;5;241;43m=\u001B[39;49m\u001B[43maverage\u001B[49m\u001B[43m,\u001B[49m\n\u001B[0;32m   1960\u001B[0m \u001B[43m        \u001B[49m\u001B[43mwarn_for\u001B[49m\u001B[38;5;241;43m=\u001B[39;49m\u001B[43m(\u001B[49m\u001B[38;5;124;43m\"\u001B[39;49m\u001B[38;5;124;43mprecision\u001B[39;49m\u001B[38;5;124;43m\"\u001B[39;49m\u001B[43m,\u001B[49m\u001B[43m)\u001B[49m\u001B[43m,\u001B[49m\n\u001B[0;32m   1961\u001B[0m \u001B[43m        \u001B[49m\u001B[43msample_weight\u001B[49m\u001B[38;5;241;43m=\u001B[39;49m\u001B[43msample_weight\u001B[49m\u001B[43m,\u001B[49m\n\u001B[0;32m   1962\u001B[0m \u001B[43m        \u001B[49m\u001B[43mzero_division\u001B[49m\u001B[38;5;241;43m=\u001B[39;49m\u001B[43mzero_division\u001B[49m\u001B[43m,\u001B[49m\n\u001B[0;32m   1963\u001B[0m \u001B[43m    \u001B[49m\u001B[43m)\u001B[49m\n\u001B[0;32m   1964\u001B[0m     \u001B[38;5;28;01mreturn\u001B[39;00m p\n",
      "File \u001B[1;32m~\\AppData\\Local\\Programs\\Python\\Python311\\Lib\\site-packages\\sklearn\\metrics\\_classification.py:1573\u001B[0m, in \u001B[0;36mprecision_recall_fscore_support\u001B[1;34m(y_true, y_pred, beta, labels, pos_label, average, warn_for, sample_weight, zero_division)\u001B[0m\n\u001B[0;32m   1571\u001B[0m \u001B[38;5;28;01mif\u001B[39;00m beta \u001B[38;5;241m<\u001B[39m \u001B[38;5;241m0\u001B[39m:\n\u001B[0;32m   1572\u001B[0m     \u001B[38;5;28;01mraise\u001B[39;00m \u001B[38;5;167;01mValueError\u001B[39;00m(\u001B[38;5;124m\"\u001B[39m\u001B[38;5;124mbeta should be >=0 in the F-beta score\u001B[39m\u001B[38;5;124m\"\u001B[39m)\n\u001B[1;32m-> 1573\u001B[0m labels \u001B[38;5;241m=\u001B[39m \u001B[43m_check_set_wise_labels\u001B[49m\u001B[43m(\u001B[49m\u001B[43my_true\u001B[49m\u001B[43m,\u001B[49m\u001B[43m \u001B[49m\u001B[43my_pred\u001B[49m\u001B[43m,\u001B[49m\u001B[43m \u001B[49m\u001B[43maverage\u001B[49m\u001B[43m,\u001B[49m\u001B[43m \u001B[49m\u001B[43mlabels\u001B[49m\u001B[43m,\u001B[49m\u001B[43m \u001B[49m\u001B[43mpos_label\u001B[49m\u001B[43m)\u001B[49m\n\u001B[0;32m   1575\u001B[0m \u001B[38;5;66;03m# Calculate tp_sum, pred_sum, true_sum ###\u001B[39;00m\n\u001B[0;32m   1576\u001B[0m samplewise \u001B[38;5;241m=\u001B[39m average \u001B[38;5;241m==\u001B[39m \u001B[38;5;124m\"\u001B[39m\u001B[38;5;124msamples\u001B[39m\u001B[38;5;124m\"\u001B[39m\n",
      "File \u001B[1;32m~\\AppData\\Local\\Programs\\Python\\Python311\\Lib\\site-packages\\sklearn\\metrics\\_classification.py:1374\u001B[0m, in \u001B[0;36m_check_set_wise_labels\u001B[1;34m(y_true, y_pred, average, labels, pos_label)\u001B[0m\n\u001B[0;32m   1371\u001B[0m \u001B[38;5;28;01mif\u001B[39;00m average \u001B[38;5;129;01mnot\u001B[39;00m \u001B[38;5;129;01min\u001B[39;00m average_options \u001B[38;5;129;01mand\u001B[39;00m average \u001B[38;5;241m!=\u001B[39m \u001B[38;5;124m\"\u001B[39m\u001B[38;5;124mbinary\u001B[39m\u001B[38;5;124m\"\u001B[39m:\n\u001B[0;32m   1372\u001B[0m     \u001B[38;5;28;01mraise\u001B[39;00m \u001B[38;5;167;01mValueError\u001B[39;00m(\u001B[38;5;124m\"\u001B[39m\u001B[38;5;124maverage has to be one of \u001B[39m\u001B[38;5;124m\"\u001B[39m \u001B[38;5;241m+\u001B[39m \u001B[38;5;28mstr\u001B[39m(average_options))\n\u001B[1;32m-> 1374\u001B[0m y_type, y_true, y_pred \u001B[38;5;241m=\u001B[39m \u001B[43m_check_targets\u001B[49m\u001B[43m(\u001B[49m\u001B[43my_true\u001B[49m\u001B[43m,\u001B[49m\u001B[43m \u001B[49m\u001B[43my_pred\u001B[49m\u001B[43m)\u001B[49m\n\u001B[0;32m   1375\u001B[0m \u001B[38;5;66;03m# Convert to Python primitive type to avoid NumPy type / Python str\u001B[39;00m\n\u001B[0;32m   1376\u001B[0m \u001B[38;5;66;03m# comparison. See https://github.com/numpy/numpy/issues/6784\u001B[39;00m\n\u001B[0;32m   1377\u001B[0m present_labels \u001B[38;5;241m=\u001B[39m unique_labels(y_true, y_pred)\u001B[38;5;241m.\u001B[39mtolist()\n",
      "File \u001B[1;32m~\\AppData\\Local\\Programs\\Python\\Python311\\Lib\\site-packages\\sklearn\\metrics\\_classification.py:86\u001B[0m, in \u001B[0;36m_check_targets\u001B[1;34m(y_true, y_pred)\u001B[0m\n\u001B[0;32m     59\u001B[0m \u001B[38;5;28;01mdef\u001B[39;00m \u001B[38;5;21m_check_targets\u001B[39m(y_true, y_pred):\n\u001B[0;32m     60\u001B[0m \u001B[38;5;250m    \u001B[39m\u001B[38;5;124;03m\"\"\"Check that y_true and y_pred belong to the same classification task.\u001B[39;00m\n\u001B[0;32m     61\u001B[0m \n\u001B[0;32m     62\u001B[0m \u001B[38;5;124;03m    This converts multiclass or binary types to a common shape, and raises a\u001B[39;00m\n\u001B[1;32m   (...)\u001B[0m\n\u001B[0;32m     84\u001B[0m \u001B[38;5;124;03m    y_pred : array or indicator matrix\u001B[39;00m\n\u001B[0;32m     85\u001B[0m \u001B[38;5;124;03m    \"\"\"\u001B[39;00m\n\u001B[1;32m---> 86\u001B[0m     \u001B[43mcheck_consistent_length\u001B[49m\u001B[43m(\u001B[49m\u001B[43my_true\u001B[49m\u001B[43m,\u001B[49m\u001B[43m \u001B[49m\u001B[43my_pred\u001B[49m\u001B[43m)\u001B[49m\n\u001B[0;32m     87\u001B[0m     type_true \u001B[38;5;241m=\u001B[39m type_of_target(y_true, input_name\u001B[38;5;241m=\u001B[39m\u001B[38;5;124m\"\u001B[39m\u001B[38;5;124my_true\u001B[39m\u001B[38;5;124m\"\u001B[39m)\n\u001B[0;32m     88\u001B[0m     type_pred \u001B[38;5;241m=\u001B[39m type_of_target(y_pred, input_name\u001B[38;5;241m=\u001B[39m\u001B[38;5;124m\"\u001B[39m\u001B[38;5;124my_pred\u001B[39m\u001B[38;5;124m\"\u001B[39m)\n",
      "File \u001B[1;32m~\\AppData\\Local\\Programs\\Python\\Python311\\Lib\\site-packages\\sklearn\\utils\\validation.py:397\u001B[0m, in \u001B[0;36mcheck_consistent_length\u001B[1;34m(*arrays)\u001B[0m\n\u001B[0;32m    395\u001B[0m uniques \u001B[38;5;241m=\u001B[39m np\u001B[38;5;241m.\u001B[39munique(lengths)\n\u001B[0;32m    396\u001B[0m \u001B[38;5;28;01mif\u001B[39;00m \u001B[38;5;28mlen\u001B[39m(uniques) \u001B[38;5;241m>\u001B[39m \u001B[38;5;241m1\u001B[39m:\n\u001B[1;32m--> 397\u001B[0m     \u001B[38;5;28;01mraise\u001B[39;00m \u001B[38;5;167;01mValueError\u001B[39;00m(\n\u001B[0;32m    398\u001B[0m         \u001B[38;5;124m\"\u001B[39m\u001B[38;5;124mFound input variables with inconsistent numbers of samples: \u001B[39m\u001B[38;5;132;01m%r\u001B[39;00m\u001B[38;5;124m\"\u001B[39m\n\u001B[0;32m    399\u001B[0m         \u001B[38;5;241m%\u001B[39m [\u001B[38;5;28mint\u001B[39m(l) \u001B[38;5;28;01mfor\u001B[39;00m l \u001B[38;5;129;01min\u001B[39;00m lengths]\n\u001B[0;32m    400\u001B[0m     )\n",
      "\u001B[1;31mValueError\u001B[0m: Found input variables with inconsistent numbers of samples: [5, 218]"
     ]
    }
   ],
   "source": [
    "df_.replace(to_replace={True: 1, False: 0}, inplace=True)\n",
    "y_pred = np.asarray(df_['Predicted default status'])\n",
    "\n",
    "df_.replace(to_replace={0: 'Up', 1: 'Down'}, inplace=True)\n",
    "df_.groupby(['Predicted default status', 'True default status']).size().unstack('True default status')\n",
    "precision_score(y, y_pred)\n",
    "accuracy_score(y, y_pred)"
   ],
   "metadata": {
    "collapsed": false
   }
  },
  {
   "cell_type": "code",
   "execution_count": null,
   "outputs": [],
   "source": [],
   "metadata": {
    "collapsed": false
   }
  },
  {
   "cell_type": "code",
   "execution_count": null,
   "outputs": [],
   "source": [
    "import numpy as np\n",
    "from sklearn.linear_model import LogisticRegression\n",
    "import matplotlib.pyplot as plt\n",
    "\n",
    "# Datos de ejemplo\n",
    "X = np.array([[1, 2], [3, 4], [5, 6], [7, 8], [9, 10]])\n",
    "y = np.array([0, 0, 1, 1, 1])\n",
    "\n",
    "# Crear objeto LogisticRegression\n",
    "lr = LogisticRegression()\n",
    "\n",
    "# Ajustar modelo a los datos de ejemplo\n",
    "lr.fit(X, y)\n",
    "\n",
    "# Generar conjunto de datos de prueba\n",
    "X_test = np.linspace(0, 10, 1000).reshape(-1, 2)\n",
    "\n",
    "# Obtener probabilidades estimadas para los datos de prueba\n",
    "probs = lr.predict_proba(X_test)[:, 1]\n",
    "\n",
    "# Graficar la curva de probabilidad estimada\n",
    "plt.plot(X_test[:, 0], probs)\n",
    "plt.xlabel('Variable independiente')\n",
    "plt.ylabel('Probabilidad estimada')\n",
    "plt.show()"
   ],
   "metadata": {
    "collapsed": false
   }
  },
  {
   "cell_type": "markdown",
   "source": [
    "Claro, aquí te dejo el código para obtener cada uno de los datos de salida de la regresión logística en Python utilizando la librería scikit-learn:\n",
    "\n",
    "Coeficientes de la regresión:\n",
    "from sklearn.linear_model import LogisticRegression\n",
    "\n",
    "# Datos de ejemplo\n",
    "X = [[0.5, 1], [2, 3], [4, 5], [6, 7]]\n",
    "y = [0, 0, 1, 1]\n",
    "\n",
    "# Crear objeto LogisticRegression\n",
    "lr = LogisticRegression()\n",
    "\n",
    "# Ajustar modelo a los datos de ejemplo\n",
    "lr.fit(X, y)\n",
    "\n",
    "# Obtener coeficientes de la regresión\n",
    "coef = lr.coef_\n",
    "\n",
    "print('Coeficientes:', coef)\n",
    "Intercepto:\n",
    "from sklearn.linear_model import LogisticRegression\n",
    "\n",
    "# Datos de ejemplo\n",
    "X = [[0.5, 1], [2, 3], [4, 5], [6, 7]]\n",
    "y = [0, 0, 1, 1]\n",
    "\n",
    "# Crear objeto LogisticRegression\n",
    "lr = LogisticRegression()\n",
    "\n",
    "# Ajustar modelo a los datos de ejemplo\n",
    "lr.fit(X, y)\n",
    "\n",
    "# Obtener intercepto\n",
    "intercept = lr.intercept_\n",
    "\n",
    "print('Intercepto:', intercept)\n",
    "Probabilidades estimadas:\n",
    "from sklearn.linear_model import LogisticRegression\n",
    "\n",
    "# Datos de ejemplo\n",
    "X = [[0.5, 1], [2, 3], [4, 5], [6, 7]]\n",
    "y = [0, 0, 1, 1]\n",
    "\n",
    "# Crear objeto LogisticRegression\n",
    "lr = LogisticRegression()\n",
    "\n",
    "# Ajustar modelo a los datos de ejemplo\n",
    "lr.fit(X, y)\n",
    "\n",
    "# Generar conjunto de datos de prueba\n",
    "X_test = [[1, 2], [3, 4], [5, 6]]\n",
    "\n",
    "# Obtener probabilidades estimadas para los datos de prueba\n",
    "probs = lr.predict_proba(X_test)\n",
    "\n",
    "print('Probabilidades estimadas:', probs)\n",
    "Clases predichas:\n",
    "from sklearn.linear_model import LogisticRegression\n",
    "\n",
    "# Datos de ejemplo\n",
    "X = [[0.5, 1], [2, 3], [4, 5], [6, 7]]\n",
    "y = [0, 0, 1, 1]\n",
    "\n",
    "# Crear objeto LogisticRegression\n",
    "lr = LogisticRegression()\n",
    "\n",
    "# Ajustar modelo a los datos de ejemplo\n",
    "lr.fit(X, y)\n",
    "\n",
    "# Generar conjunto de datos de prueba\n",
    "X_test = [[1, 2], [3, 4], [5, 6]]\n",
    "\n",
    "# Obtener clases predichas para los datos de prueba\n",
    "preds = lr.predict(X_test)\n",
    "\n",
    "print('Clases predichas:', preds)\n",
    "Matriz de confusión:\n",
    "from sklearn.linear_model import LogisticRegression\n",
    "from sklearn.metrics import confusion_matrix\n",
    "\n",
    "# Datos de ejemplo\n",
    "X = [[0.5, 1], [2, 3], [4, 5], [6, 7]]\n",
    "y = [0, 0, 1, 1]\n",
    "\n",
    "# Crear objeto LogisticRegression\n",
    "lr = LogisticRegression()\n",
    "\n",
    "# Ajustar modelo a los datos de ejemplo\n",
    "lr.fit(X, y)\n",
    "\n",
    "# Generar conjunto de datos de prueba\n",
    "X_test = [[0.5, 1], [2, 3], [4, 5], [6, 7]]\n",
    "y_test = [0, 0, 1, 1]\n",
    "\n",
    "# Obtener matriz de confusión para los datos de prueba\n",
    "preds = lr.predict(X_test)\n",
    "cm = confusion_matrix(y_test, preds)\n",
    "\n",
    "print('Matriz de confusión:')\n",
    "print(cm)\n",
    "Curva ROC:\n",
    "from sklearn.linear_model import LogisticRegression\n",
    "from sklearn.metrics import roc_curve\n",
    "import matplotlib.pyplot as plt\n",
    "\n",
    "# Datos de ejemplo\n",
    "X = [[0.5, 1], [2, 3], [4, 5], [6, 7]]\n",
    "y = [0, 0, 1, 1]\n",
    "\n",
    "# Crear objeto LogisticRegression\n",
    "lr = LogisticRegression()\n",
    "\n",
    "# Ajustar modelo a los datos de ejemplo\n",
    "lr.fit(X, y)\n",
    "\n",
    "# Generar conjunto de datos de prueba\n",
    "X_test = [[0.5, 1], [2, 3], [4, 5], [6, 7]]\n",
    "y_test = [0, 0, 1, 1]\n",
    "\n",
    "# Obtener probabilidades estimadas para los datos de prueba\n",
    "probs = lr.predict_proba(X_test)[:, 1]\n",
    "\n",
    "# Obtener curva ROC\n",
    "fpr, tpr, thresholds = roc_curve(y_test, probs)\n",
    "\n",
    "# Graficar curva ROC\n",
    "plt.plot(fpr, tpr)\n",
    "plt.xlabel('Tasa de falsos posit"
   ],
   "metadata": {
    "collapsed": false
   }
  },
  {
   "cell_type": "code",
   "execution_count": null,
   "outputs": [],
   "source": [],
   "metadata": {
    "collapsed": false
   }
  }
 ],
 "metadata": {
  "kernelspec": {
   "display_name": "Python 3",
   "language": "python",
   "name": "python3"
  },
  "language_info": {
   "codemirror_mode": {
    "name": "ipython",
    "version": 2
   },
   "file_extension": ".py",
   "mimetype": "text/x-python",
   "name": "python",
   "nbconvert_exporter": "python",
   "pygments_lexer": "ipython2",
   "version": "2.7.6"
  },
  "colab": {
   "provenance": []
  }
 },
 "nbformat": 4,
 "nbformat_minor": 0
}
