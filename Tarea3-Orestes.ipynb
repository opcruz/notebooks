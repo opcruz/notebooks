{
 "cells": [
  {
   "cell_type": "markdown",
   "source": [
    "### Importar librerías"
   ],
   "metadata": {
    "collapsed": false,
    "id": "88E8jbPF3VwJ"
   }
  },
  {
   "cell_type": "code",
   "execution_count": 7,
   "metadata": {
    "collapsed": true,
    "id": "c7IO-UVP3VwK",
    "executionInfo": {
     "status": "ok",
     "timestamp": 1679732610350,
     "user_tz": 360,
     "elapsed": 379,
     "user": {
      "displayName": "Orestes Pérez Cruz",
      "userId": "07825545508604108832"
     }
    }
   },
   "outputs": [],
   "source": [
    "import math\n",
    "import matplotlib.pyplot as plt\n",
    "import numpy as np\n",
    "import pandas as pd\n",
    "import requests"
   ]
  },
  {
   "cell_type": "markdown",
   "source": [
    "## Cargar Dataframe"
   ],
   "metadata": {
    "collapsed": false,
    "id": "bBtjkbrW3VwL"
   }
  },
  {
   "cell_type": "code",
   "execution_count": 8,
   "outputs": [
    {
     "data": {
      "text/plain": "   Year   Lag1   Lag2   Lag3   Lag4   Lag5    Volume  Today Direction\n0  1990  0.816  1.572 -3.936 -0.229 -3.484  0.154976 -0.270      Down\n1  1990 -0.270  0.816  1.572 -3.936 -0.229  0.148574 -2.576      Down\n2  1990 -2.576 -0.270  0.816  1.572 -3.936  0.159837  3.514        Up\n3  1990  3.514 -2.576 -0.270  0.816  1.572  0.161630  0.712        Up\n4  1990  0.712  3.514 -2.576 -0.270  0.816  0.153728  1.178        Up",
      "text/html": "<div>\n<style scoped>\n    .dataframe tbody tr th:only-of-type {\n        vertical-align: middle;\n    }\n\n    .dataframe tbody tr th {\n        vertical-align: top;\n    }\n\n    .dataframe thead th {\n        text-align: right;\n    }\n</style>\n<table border=\"1\" class=\"dataframe\">\n  <thead>\n    <tr style=\"text-align: right;\">\n      <th></th>\n      <th>Year</th>\n      <th>Lag1</th>\n      <th>Lag2</th>\n      <th>Lag3</th>\n      <th>Lag4</th>\n      <th>Lag5</th>\n      <th>Volume</th>\n      <th>Today</th>\n      <th>Direction</th>\n    </tr>\n  </thead>\n  <tbody>\n    <tr>\n      <th>0</th>\n      <td>1990</td>\n      <td>0.816</td>\n      <td>1.572</td>\n      <td>-3.936</td>\n      <td>-0.229</td>\n      <td>-3.484</td>\n      <td>0.154976</td>\n      <td>-0.270</td>\n      <td>Down</td>\n    </tr>\n    <tr>\n      <th>1</th>\n      <td>1990</td>\n      <td>-0.270</td>\n      <td>0.816</td>\n      <td>1.572</td>\n      <td>-3.936</td>\n      <td>-0.229</td>\n      <td>0.148574</td>\n      <td>-2.576</td>\n      <td>Down</td>\n    </tr>\n    <tr>\n      <th>2</th>\n      <td>1990</td>\n      <td>-2.576</td>\n      <td>-0.270</td>\n      <td>0.816</td>\n      <td>1.572</td>\n      <td>-3.936</td>\n      <td>0.159837</td>\n      <td>3.514</td>\n      <td>Up</td>\n    </tr>\n    <tr>\n      <th>3</th>\n      <td>1990</td>\n      <td>3.514</td>\n      <td>-2.576</td>\n      <td>-0.270</td>\n      <td>0.816</td>\n      <td>1.572</td>\n      <td>0.161630</td>\n      <td>0.712</td>\n      <td>Up</td>\n    </tr>\n    <tr>\n      <th>4</th>\n      <td>1990</td>\n      <td>0.712</td>\n      <td>3.514</td>\n      <td>-2.576</td>\n      <td>-0.270</td>\n      <td>0.816</td>\n      <td>0.153728</td>\n      <td>1.178</td>\n      <td>Up</td>\n    </tr>\n  </tbody>\n</table>\n</div>"
     },
     "execution_count": 8,
     "metadata": {},
     "output_type": "execute_result"
    }
   ],
   "source": [
    "df = pd.read_csv(\"https://raw.githubusercontent.com/opcruz/datasets/main/Weekly.csv\", sep=\",\")\n",
    "df.head()"
   ],
   "metadata": {
    "colab": {
     "base_uri": "https://localhost:8080/",
     "height": 206
    },
    "id": "Q99ZBBKm3VwL",
    "executionInfo": {
     "status": "ok",
     "timestamp": 1679732611912,
     "user_tz": 360,
     "elapsed": 509,
     "user": {
      "displayName": "Orestes Pérez Cruz",
      "userId": "07825545508604108832"
     }
    },
    "outputId": "33255bf8-6b4d-46c5-c8ba-8bdd15072a25"
   }
  },
  {
   "cell_type": "code",
   "execution_count": 9,
   "outputs": [
    {
     "data": {
      "text/plain": "(1089, 9)"
     },
     "execution_count": 9,
     "metadata": {},
     "output_type": "execute_result"
    }
   ],
   "source": [
    "df.shape"
   ],
   "metadata": {
    "colab": {
     "base_uri": "https://localhost:8080/"
    },
    "id": "xDSbOjDy3VwM",
    "executionInfo": {
     "status": "ok",
     "timestamp": 1679732611913,
     "user_tz": 360,
     "elapsed": 7,
     "user": {
      "displayName": "Orestes Pérez Cruz",
      "userId": "07825545508604108832"
     }
    },
    "outputId": "e77411af-1bf7-4f0c-a9a4-544a5186efd8"
   }
  },
  {
   "cell_type": "code",
   "execution_count": 10,
   "outputs": [
    {
     "data": {
      "text/plain": "         count         mean       std          min          25%         50%  \\\nYear    1089.0  2000.048669  6.033182  1990.000000  1995.000000  2000.00000   \nLag1    1089.0     0.150585  2.357013   -18.195000    -1.154000     0.24100   \nLag2    1089.0     0.151079  2.357254   -18.195000    -1.154000     0.24100   \nLag3    1089.0     0.147205  2.360502   -18.195000    -1.158000     0.24100   \nLag4    1089.0     0.145818  2.360279   -18.195000    -1.158000     0.23800   \nLag5    1089.0     0.139893  2.361285   -18.195000    -1.166000     0.23400   \nVolume  1089.0     1.574618  1.686636     0.087465     0.332022     1.00268   \nToday   1089.0     0.149899  2.356927   -18.195000    -1.154000     0.24100   \n\n                75%          max  \nYear    2005.000000  2010.000000  \nLag1       1.405000    12.026000  \nLag2       1.409000    12.026000  \nLag3       1.409000    12.026000  \nLag4       1.409000    12.026000  \nLag5       1.405000    12.026000  \nVolume     2.053727     9.328214  \nToday      1.405000    12.026000  ",
      "text/html": "<div>\n<style scoped>\n    .dataframe tbody tr th:only-of-type {\n        vertical-align: middle;\n    }\n\n    .dataframe tbody tr th {\n        vertical-align: top;\n    }\n\n    .dataframe thead th {\n        text-align: right;\n    }\n</style>\n<table border=\"1\" class=\"dataframe\">\n  <thead>\n    <tr style=\"text-align: right;\">\n      <th></th>\n      <th>count</th>\n      <th>mean</th>\n      <th>std</th>\n      <th>min</th>\n      <th>25%</th>\n      <th>50%</th>\n      <th>75%</th>\n      <th>max</th>\n    </tr>\n  </thead>\n  <tbody>\n    <tr>\n      <th>Year</th>\n      <td>1089.0</td>\n      <td>2000.048669</td>\n      <td>6.033182</td>\n      <td>1990.000000</td>\n      <td>1995.000000</td>\n      <td>2000.00000</td>\n      <td>2005.000000</td>\n      <td>2010.000000</td>\n    </tr>\n    <tr>\n      <th>Lag1</th>\n      <td>1089.0</td>\n      <td>0.150585</td>\n      <td>2.357013</td>\n      <td>-18.195000</td>\n      <td>-1.154000</td>\n      <td>0.24100</td>\n      <td>1.405000</td>\n      <td>12.026000</td>\n    </tr>\n    <tr>\n      <th>Lag2</th>\n      <td>1089.0</td>\n      <td>0.151079</td>\n      <td>2.357254</td>\n      <td>-18.195000</td>\n      <td>-1.154000</td>\n      <td>0.24100</td>\n      <td>1.409000</td>\n      <td>12.026000</td>\n    </tr>\n    <tr>\n      <th>Lag3</th>\n      <td>1089.0</td>\n      <td>0.147205</td>\n      <td>2.360502</td>\n      <td>-18.195000</td>\n      <td>-1.158000</td>\n      <td>0.24100</td>\n      <td>1.409000</td>\n      <td>12.026000</td>\n    </tr>\n    <tr>\n      <th>Lag4</th>\n      <td>1089.0</td>\n      <td>0.145818</td>\n      <td>2.360279</td>\n      <td>-18.195000</td>\n      <td>-1.158000</td>\n      <td>0.23800</td>\n      <td>1.409000</td>\n      <td>12.026000</td>\n    </tr>\n    <tr>\n      <th>Lag5</th>\n      <td>1089.0</td>\n      <td>0.139893</td>\n      <td>2.361285</td>\n      <td>-18.195000</td>\n      <td>-1.166000</td>\n      <td>0.23400</td>\n      <td>1.405000</td>\n      <td>12.026000</td>\n    </tr>\n    <tr>\n      <th>Volume</th>\n      <td>1089.0</td>\n      <td>1.574618</td>\n      <td>1.686636</td>\n      <td>0.087465</td>\n      <td>0.332022</td>\n      <td>1.00268</td>\n      <td>2.053727</td>\n      <td>9.328214</td>\n    </tr>\n    <tr>\n      <th>Today</th>\n      <td>1089.0</td>\n      <td>0.149899</td>\n      <td>2.356927</td>\n      <td>-18.195000</td>\n      <td>-1.154000</td>\n      <td>0.24100</td>\n      <td>1.405000</td>\n      <td>12.026000</td>\n    </tr>\n  </tbody>\n</table>\n</div>"
     },
     "execution_count": 10,
     "metadata": {},
     "output_type": "execute_result"
    }
   ],
   "source": [
    "df.describe().T"
   ],
   "metadata": {
    "colab": {
     "base_uri": "https://localhost:8080/",
     "height": 300
    },
    "id": "w5GVDbPY3VwM",
    "executionInfo": {
     "status": "ok",
     "timestamp": 1679732611913,
     "user_tz": 360,
     "elapsed": 5,
     "user": {
      "displayName": "Orestes Pérez Cruz",
      "userId": "07825545508604108832"
     }
    },
    "outputId": "ab24df34-ba2f-4367-9905-0612c3b4900f"
   }
  },
  {
   "cell_type": "code",
   "execution_count": 10,
   "outputs": [],
   "source": [],
   "metadata": {
    "collapsed": false
   }
  }
 ],
 "metadata": {
  "kernelspec": {
   "display_name": "Python 3",
   "language": "python",
   "name": "python3"
  },
  "language_info": {
   "codemirror_mode": {
    "name": "ipython",
    "version": 2
   },
   "file_extension": ".py",
   "mimetype": "text/x-python",
   "name": "python",
   "nbconvert_exporter": "python",
   "pygments_lexer": "ipython2",
   "version": "2.7.6"
  },
  "colab": {
   "provenance": []
  }
 },
 "nbformat": 4,
 "nbformat_minor": 0
}
